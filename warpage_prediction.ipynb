{
  "nbformat": 4,
  "nbformat_minor": 0,
  "metadata": {
    "colab": {
      "name": "warpage_prediction.ipynb",
      "version": "0.3.2",
      "provenance": [],
      "include_colab_link": true
    },
    "kernelspec": {
      "name": "python3",
      "display_name": "Python 3"
    }
  },
  "cells": [
    {
      "cell_type": "markdown",
      "metadata": {
        "id": "view-in-github",
        "colab_type": "text"
      },
      "source": [
        "<a href=\"https://colab.research.google.com/github/lorransr/warpage_analysis/blob/master/warpage_prediction.ipynb\" target=\"_parent\"><img src=\"https://colab.research.google.com/assets/colab-badge.svg\" alt=\"Open In Colab\"/></a>"
      ]
    },
    {
      "cell_type": "markdown",
      "metadata": {
        "id": "UO-GDNQVsn-2",
        "colab_type": "text"
      },
      "source": [
        "#Prevendo rechupe\n",
        "\n",
        "## Descrição dos Dados\n",
        "Os dados utilizado neste trabalho são baseados no artigo de [Taghizadeh](http://jps.shirazu.ac.ir/article_1744_b7eb8ed50d88a80fe3a7ade4b30059fb.pdf), que buscou prever o rechupe em uma peça circular de plástico, concebida pelo processo de injeção sob diversos parâmetros. Para obtenção dos dados Taghizadeh, utilizou o Moldflow Plastics Insight (MPI).\n",
        "A princípio foi concebido o desenho 3D de uma peça com geometria similar a calços, espaçadores automotivos, transmissão e geração de energia. A peça em questão foi escolhida, justamente, por conta da importância que a sua forma final em relação ao seu desempenho. O plástico utilizado na simulação foi o Polietileno de baixa densidade (LDPE), com as seguintes propriedades:\n",
        "\n",
        "* Temperatura de Injeção (°C): 180~280\n",
        "* Temperatura do Molde (°C): 20~70\n",
        "* Condutividade Térmica (W/m°C): 0.31\n",
        "* Calor Específico(J/kg°C): 3400\n",
        "\n",
        "O modelo foi importado para o MPI e em seguida foi aplicada uma malha, antes de se realizar a análise. Foi escolhida uma malha de elementos triangulares. O tipo de malha foi a malha para superfícies fundidas. De maneira que ao fim do processo foram obtidos 1174 nós, com 2204 elementos triangulares, e com Match ratio (**entender oq é**) de 97%. \n",
        "Vale ressaltar que foram também simulados canais de resfriamento situados a 15 mm da superfície da peça e com distâncias entre canais de 55mm.\n",
        "\n",
        "Ao todo foram selecionados para a simulação cinco níveis de temperatura de injeção (280,255,230,205 e 180°C), três níveis da pressão de recalque(90,75 e 60% da pressão máxima de injeção), três níveis de  temperatura do molde (70,45 e 20°C). A partir desses valores foi criado um conjunto de dados de treino, com 45 configurações, utilizando-se o método fatorial de design de experimento. A numeração de cada teste foi realizada de acordo com o nível de cada parâmetro. Foi convencionado o  número 1 para o nível mais baixo, 2 para o segundo nível e assim sucessivamente até o nível mais alto. De tal forma que para o teste T-523, o digito 4 indica o quarto nível da temperatura de injeção(280), 2 indica o segundo nível da pressão de recalque (75% da pressão de injeção), e 3 indica o terceiro nível da temperatura do molde (70).Em seguida foi simulado também um conjunto de teste contendo 10 amostras com valores aleatórios de parâmetros dentro das faixas recomendadas."
      ]
    },
    {
      "cell_type": "code",
      "metadata": {
        "id": "Ty2qH-PZuexL",
        "colab_type": "code",
        "colab": {}
      },
      "source": [
        "import pandas as pd\n",
        "import numpy as np\n",
        "import seaborn as sns\n",
        "import altair as alt\n",
        "import matplotlib.pyplot as plt"
      ],
      "execution_count": 0,
      "outputs": []
    },
    {
      "cell_type": "code",
      "metadata": {
        "id": "Ms3tvuRHtHrd",
        "colab_type": "code",
        "colab": {}
      },
      "source": [
        "#Importando os dados\n",
        "url = \"https://raw.githubusercontent.com/lorransr/warpage_analysis/master/warpage.csv\"\n",
        "raw = pd.read_csv(url,sep = \";\")"
      ],
      "execution_count": 0,
      "outputs": []
    },
    {
      "cell_type": "code",
      "metadata": {
        "id": "q0Turn2fu0lO",
        "colab_type": "code",
        "outputId": "e40823ae-fb2e-4658-b2be-e407fe5e67af",
        "colab": {
          "base_uri": "https://localhost:8080/",
          "height": 197
        }
      },
      "source": [
        "raw.head()"
      ],
      "execution_count": 36,
      "outputs": [
        {
          "output_type": "execute_result",
          "data": {
            "text/html": [
              "<div>\n",
              "<style scoped>\n",
              "    .dataframe tbody tr th:only-of-type {\n",
              "        vertical-align: middle;\n",
              "    }\n",
              "\n",
              "    .dataframe tbody tr th {\n",
              "        vertical-align: top;\n",
              "    }\n",
              "\n",
              "    .dataframe thead th {\n",
              "        text-align: right;\n",
              "    }\n",
              "</style>\n",
              "<table border=\"1\" class=\"dataframe\">\n",
              "  <thead>\n",
              "    <tr style=\"text-align: right;\">\n",
              "      <th></th>\n",
              "      <th>teste</th>\n",
              "      <th>melt_temp</th>\n",
              "      <th>hold_press</th>\n",
              "      <th>mold_temp</th>\n",
              "      <th>warpage</th>\n",
              "    </tr>\n",
              "  </thead>\n",
              "  <tbody>\n",
              "    <tr>\n",
              "      <th>0</th>\n",
              "      <td>T-111</td>\n",
              "      <td>180</td>\n",
              "      <td>60</td>\n",
              "      <td>20</td>\n",
              "      <td>1.328</td>\n",
              "    </tr>\n",
              "    <tr>\n",
              "      <th>1</th>\n",
              "      <td>T-112</td>\n",
              "      <td>180</td>\n",
              "      <td>60</td>\n",
              "      <td>45</td>\n",
              "      <td>1.328</td>\n",
              "    </tr>\n",
              "    <tr>\n",
              "      <th>2</th>\n",
              "      <td>T-113</td>\n",
              "      <td>180</td>\n",
              "      <td>60</td>\n",
              "      <td>70</td>\n",
              "      <td>1.310</td>\n",
              "    </tr>\n",
              "    <tr>\n",
              "      <th>3</th>\n",
              "      <td>T-121</td>\n",
              "      <td>180</td>\n",
              "      <td>75</td>\n",
              "      <td>20</td>\n",
              "      <td>0.981</td>\n",
              "    </tr>\n",
              "    <tr>\n",
              "      <th>4</th>\n",
              "      <td>T-122</td>\n",
              "      <td>180</td>\n",
              "      <td>75</td>\n",
              "      <td>45</td>\n",
              "      <td>0.989</td>\n",
              "    </tr>\n",
              "  </tbody>\n",
              "</table>\n",
              "</div>"
            ],
            "text/plain": [
              "   teste  melt_temp  hold_press  mold_temp  warpage\n",
              "0  T-111        180          60         20    1.328\n",
              "1  T-112        180          60         45    1.328\n",
              "2  T-113        180          60         70    1.310\n",
              "3  T-121        180          75         20    0.981\n",
              "4  T-122        180          75         45    0.989"
            ]
          },
          "metadata": {
            "tags": []
          },
          "execution_count": 36
        }
      ]
    },
    {
      "cell_type": "code",
      "metadata": {
        "id": "kUZ3Ou6JwJeA",
        "colab_type": "code",
        "outputId": "cf4f477d-5981-4e6f-ecde-1d2279da176c",
        "colab": {
          "base_uri": "https://localhost:8080/",
          "height": 123
        }
      },
      "source": [
        "raw.dtypes"
      ],
      "execution_count": 37,
      "outputs": [
        {
          "output_type": "execute_result",
          "data": {
            "text/plain": [
              "teste          object\n",
              "melt_temp       int64\n",
              "hold_press      int64\n",
              "mold_temp       int64\n",
              "warpage       float64\n",
              "dtype: object"
            ]
          },
          "metadata": {
            "tags": []
          },
          "execution_count": 37
        }
      ]
    },
    {
      "cell_type": "code",
      "metadata": {
        "id": "KdNJ9Dd86KuO",
        "colab_type": "code",
        "colab": {}
      },
      "source": [
        "df = raw"
      ],
      "execution_count": 0,
      "outputs": []
    },
    {
      "cell_type": "markdown",
      "metadata": {
        "id": "CqkxqXVpKVUW",
        "colab_type": "text"
      },
      "source": [
        "## Analise Exploratória"
      ]
    },
    {
      "cell_type": "code",
      "metadata": {
        "id": "oTFT6Upa6MtR",
        "colab_type": "code",
        "colab": {
          "base_uri": "https://localhost:8080/",
          "height": 388
        },
        "outputId": "1a80da82-894a-47f1-f2a8-ca69227e536c"
      },
      "source": [
        "g = sns.pairplot(df,x_vars = df.columns[1:4], y_vars = \"warpage\", height = 5)"
      ],
      "execution_count": 99,
      "outputs": [
        {
          "output_type": "display_data",
          "data": {
            "image/png": "[encoded data removed]",
            "text/plain": [
              "<Figure size 1080x360 with 3 Axes>"
            ]
          },
          "metadata": {
            "tags": []
          }
        }
      ]
    },
    {
      "cell_type": "code",
      "metadata": {
        "id": "6cdWL23ENCfq",
        "colab_type": "code",
        "colab": {
          "base_uri": "https://localhost:8080/",
          "height": 890
        },
        "outputId": "d49b13b8-0244-427e-e395-33cee91a0d51"
      },
      "source": [
        "\n",
        "\n",
        "grid = sns.JointGrid( \"melt_temp\",\"warpage\", data = df,height = 12)\n",
        "\n",
        "grid.plot_joint(plt.scatter)\n",
        "grid.plot_marginals(sns.distplot)"
      ],
      "execution_count": 100,
      "outputs": [
        {
          "output_type": "execute_result",
          "data": {
            "text/plain": [
              "<seaborn.axisgrid.JointGrid at 0x7f7c013ba048>"
            ]
          },
          "metadata": {
            "tags": []
          },
          "execution_count": 100
        },
        {
          "output_type": "display_data",
          "data": {
            "image/png": "[encoded data removed]",
            "text/plain": [
              "<Figure size 864x864 with 3 Axes>"
            ]
          },
          "metadata": {
            "tags": []
          }
        }
      ]
    },
    {
      "cell_type": "markdown",
      "metadata": {
        "id": "Ri0FFdIuvJMx",
        "colab_type": "text"
      },
      "source": [
        "## Separando o dataframe de treino e o dataframe de teste\n",
        "\n",
        "Os primeiros 45 valores são referentes ao valores de treino e os ultimos 10 aos valores de teste. Sendo assim, basta separa-los."
      ]
    },
    {
      "cell_type": "code",
      "metadata": {
        "id": "zID9dedMu4fz",
        "colab_type": "code",
        "colab": {}
      },
      "source": [
        "#Ultimos 10 linhas\n",
        "X_test = raw.drop(\"warpage\",axis=1).tail(10)\n",
        "X_test.set_index(\"teste\",inplace = True)"
      ],
      "execution_count": 0,
      "outputs": []
    },
    {
      "cell_type": "code",
      "metadata": {
        "id": "VAKxQziMu-VX",
        "colab_type": "code",
        "colab": {}
      },
      "source": [
        "#primeiros 45 linhas\n",
        "X_train =  raw.drop(\"warpage\",axis=1).head(45)\n",
        "X_train.set_index(\"teste\",inplace= True)"
      ],
      "execution_count": 0,
      "outputs": []
    },
    {
      "cell_type": "code",
      "metadata": {
        "id": "zGcGi7h09pra",
        "colab_type": "code",
        "colab": {}
      },
      "source": [
        "y_test=raw[\"warpage\"].tail(10).to_numpy()\n",
        "y_train=raw[\"warpage\"].head(45).to_numpy()"
      ],
      "execution_count": 0,
      "outputs": []
    },
    {
      "cell_type": "markdown",
      "metadata": {
        "id": "LURmCWaJxNLr",
        "colab_type": "text"
      },
      "source": [
        "## Pré Processamento"
      ]
    },
    {
      "cell_type": "markdown",
      "metadata": {
        "id": "hGw02AhFxRbo",
        "colab_type": "text"
      },
      "source": [
        "A rede neural em Python pode ter algumas dificuldades em covergir antes do número máximo de interações permitidas se os dados não estiverem normalizados. O perceptron de multiplas-camadas é sensivel a escala das features, dessa forma é recomendavel que elas estejam normalizadas. Uma vez que os dados não possuem outliers, o StandardScaler do próprio scikit-learn é uma ferramenta adequada para a normalização dos dados."
      ]
    },
    {
      "cell_type": "code",
      "metadata": {
        "id": "Hkxu2R4OwDUw",
        "colab_type": "code",
        "colab": {}
      },
      "source": [
        "from sklearn.preprocessing import StandardScaler\n",
        "scaler = StandardScaler()"
      ],
      "execution_count": 0,
      "outputs": []
    },
    {
      "cell_type": "code",
      "metadata": {
        "id": "LfehNt6pypa8",
        "colab_type": "code",
        "outputId": "f3bda76b-9b88-4d4d-e5ba-a4dc5ffbbe8d",
        "colab": {
          "base_uri": "https://localhost:8080/",
          "height": 34
        }
      },
      "source": [
        "scaler.fit(X_train)"
      ],
      "execution_count": 44,
      "outputs": [
        {
          "output_type": "execute_result",
          "data": {
            "text/plain": [
              "StandardScaler(copy=True, with_mean=True, with_std=True)"
            ]
          },
          "metadata": {
            "tags": []
          },
          "execution_count": 44
        }
      ]
    },
    {
      "cell_type": "code",
      "metadata": {
        "id": "8h8QDnmly0Ix",
        "colab_type": "code",
        "colab": {}
      },
      "source": [
        "X_train = scaler.transform(X_train)\n",
        "X_test = scaler.transform(X_test)"
      ],
      "execution_count": 0,
      "outputs": []
    },
    {
      "cell_type": "markdown",
      "metadata": {
        "id": "vTpRNHDD85OL",
        "colab_type": "text"
      },
      "source": [
        "## Criando o regressor"
      ]
    },
    {
      "cell_type": "code",
      "metadata": {
        "id": "zaARBBXZzHMK",
        "colab_type": "code",
        "colab": {}
      },
      "source": [
        "from sklearn.neural_network import MLPRegressor"
      ],
      "execution_count": 0,
      "outputs": []
    },
    {
      "cell_type": "code",
      "metadata": {
        "id": "4BfDuoC-9HFm",
        "colab_type": "code",
        "colab": {}
      },
      "source": [
        "mlp = MLPRegressor(hidden_layer_sizes=(5,3),\n",
        "                   max_iter=700,\n",
        "                   solver = \"lbfgs\",\n",
        "                   random_state = 42)"
      ],
      "execution_count": 0,
      "outputs": []
    },
    {
      "cell_type": "code",
      "metadata": {
        "id": "zyJgT8V0Ayt6",
        "colab_type": "code",
        "outputId": "b677b25c-c49a-47c0-caa6-d426d412d329",
        "colab": {
          "base_uri": "https://localhost:8080/",
          "height": 141
        }
      },
      "source": [
        "mlp.fit(X_train,y_train)"
      ],
      "execution_count": 48,
      "outputs": [
        {
          "output_type": "execute_result",
          "data": {
            "text/plain": [
              "MLPRegressor(activation='relu', alpha=0.0001, batch_size='auto', beta_1=0.9,\n",
              "             beta_2=0.999, early_stopping=False, epsilon=1e-08,\n",
              "             hidden_layer_sizes=(5, 3), learning_rate='constant',\n",
              "             learning_rate_init=0.001, max_iter=700, momentum=0.9,\n",
              "             n_iter_no_change=10, nesterovs_momentum=True, power_t=0.5,\n",
              "             random_state=42, shuffle=True, solver='lbfgs', tol=0.0001,\n",
              "             validation_fraction=0.1, verbose=False, warm_start=False)"
            ]
          },
          "metadata": {
            "tags": []
          },
          "execution_count": 48
        }
      ]
    },
    {
      "cell_type": "code",
      "metadata": {
        "id": "VlURJMy_A20N",
        "colab_type": "code",
        "colab": {}
      },
      "source": [
        "predictions_test = mlp.predict(X_test)\n",
        "predictions_train = mlp.predict(X_train)"
      ],
      "execution_count": 0,
      "outputs": []
    },
    {
      "cell_type": "code",
      "metadata": {
        "id": "DTdyxZ6aDIxX",
        "colab_type": "code",
        "outputId": "2e916c9e-a437-45bb-b6df-43e00363f903",
        "colab": {
          "base_uri": "https://localhost:8080/",
          "height": 52
        }
      },
      "source": [
        "predictions_test"
      ],
      "execution_count": 50,
      "outputs": [
        {
          "output_type": "execute_result",
          "data": {
            "text/plain": [
              "array([1.43578665, 1.51975274, 1.54105277, 1.42460129, 1.34500927,\n",
              "       1.41011028, 1.29834162, 1.3331364 , 0.95444932, 1.1481733 ])"
            ]
          },
          "metadata": {
            "tags": []
          },
          "execution_count": 50
        }
      ]
    },
    {
      "cell_type": "code",
      "metadata": {
        "id": "02NrmRoDDQM2",
        "colab_type": "code",
        "outputId": "14bda317-4bd0-4bfa-97b1-b717da8e1343",
        "colab": {
          "base_uri": "https://localhost:8080/",
          "height": 52
        }
      },
      "source": [
        "y_test"
      ],
      "execution_count": 51,
      "outputs": [
        {
          "output_type": "execute_result",
          "data": {
            "text/plain": [
              "array([1.44 , 1.527, 1.557, 1.417, 1.328, 1.396, 1.28 , 1.312, 1.05 ,\n",
              "       1.162])"
            ]
          },
          "metadata": {
            "tags": []
          },
          "execution_count": 51
        }
      ]
    },
    {
      "cell_type": "code",
      "metadata": {
        "id": "wLch0seLA8Es",
        "colab_type": "code",
        "outputId": "7de4e9c6-421b-46cb-dae1-8edd5881f828",
        "colab": {
          "base_uri": "https://localhost:8080/",
          "height": 34
        }
      },
      "source": [
        "from sklearn import metrics\n",
        "\n",
        "metrics.r2_score(y_test,predictions_test)"
      ],
      "execution_count": 52,
      "outputs": [
        {
          "output_type": "execute_result",
          "data": {
            "text/plain": [
              "0.9503298709006565"
            ]
          },
          "metadata": {
            "tags": []
          },
          "execution_count": 52
        }
      ]
    },
    {
      "cell_type": "code",
      "metadata": {
        "id": "5RP1eM3xA9QA",
        "colab_type": "code",
        "outputId": "49a21420-c796-45d9-cd69-ea1bdf0cf681",
        "colab": {
          "base_uri": "https://localhost:8080/",
          "height": 34
        }
      },
      "source": [
        "metrics.r2_score(y_train,predictions_train)"
      ],
      "execution_count": 53,
      "outputs": [
        {
          "output_type": "execute_result",
          "data": {
            "text/plain": [
              "0.9941764091705162"
            ]
          },
          "metadata": {
            "tags": []
          },
          "execution_count": 53
        }
      ]
    },
    {
      "cell_type": "code",
      "metadata": {
        "id": "_rOJqpNIGFzr",
        "colab_type": "code",
        "colab": {
          "base_uri": "https://localhost:8080/",
          "height": 301
        },
        "outputId": "35c412c0-8f7c-4b6a-847d-b5401266b407"
      },
      "source": [
        "#The weight matrix at index i holds the weights between the layer i and layer i + 1. https://www.python-course.eu/images/mlp_example_layer.png\n",
        "print(\"weights between input and first hidden layer:\")\n",
        "print(mlp.coefs_[0])\n",
        "print(\"\\nweights between first hidden and second hidden layer:\")\n",
        "print(mlp.coefs_[1])\n",
        "print(\"\\nweights between second hidden and result:\")\n",
        "print(mlp.coefs_[2])"
      ],
      "execution_count": 54,
      "outputs": [
        {
          "output_type": "stream",
          "text": [
            "weights between input and first hidden layer:\n",
            "[[ 0.07001345  0.89787471 -0.32653017 -0.37640497 -0.83223389]\n",
            " [-0.63099473 -0.97344795  0.42708507  0.34677342  0.69222905]\n",
            " [-0.9073803   0.29512139  0.86688819 -0.17088574 -0.26087691]]\n",
            "\n",
            "weights between first hidden and second hidden layer:\n",
            "[[ 0.11234135 -0.28616841 -0.37218335]\n",
            " [ 0.36105603 -0.20679787  0.17747356]\n",
            " [-0.12967757  0.61806258  0.27368371]\n",
            " [-0.35675513 -0.15442684 -0.69582342]\n",
            " [-0.60760199  0.95991727  0.62966412]]\n",
            "\n",
            "weights between second hidden and result:\n",
            "[[ 0.2565208 ]\n",
            " [-0.0799621 ]\n",
            " [-0.95474526]]\n"
          ],
          "name": "stdout"
        }
      ]
    },
    {
      "cell_type": "code",
      "metadata": {
        "id": "2-olkHEBzQtn",
        "colab_type": "code",
        "colab": {}
      },
      "source": [
        ""
      ],
      "execution_count": 0,
      "outputs": []
    }
  ]
}